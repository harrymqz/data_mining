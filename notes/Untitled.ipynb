{
 "cells": [
  {
   "cell_type": "markdown",
   "metadata": {},
   "source": [
    "# From raw data to technically correct data\n",
    "## Reading data into a Pandas DataFrame\n",
    "### from csv\n",
    "* explore pd.read_csv its parameters and how interprets data\n",
    "* convert variables to correct data types\n",
    "    * show how casting to data type and assigning to a new var, then sliching NA's and slicing old variable values we can have a hint of why the casting went wrong --- ALWAYS MAXIMIZE THE DATA CONSERVATION\n",
    "* how regex can help when raw files are not well structured\n",
    "* paralelize in pandas??\n",
    "#### and other char/byte separated format\n",
    "\n",
    "### from xlsx\n",
    "### from json\n",
    "### from xml\n",
    "### from other sources\n",
    "### type conversion\n",
    "* how to know variable data type\n",
    "* convert to other types\n",
    "* handle errors\n",
    "\n",
    "### handle Dates\n",
    "\n",
    "### hablde strings\n",
    "* useful functions (strip, etc..)\n",
    "* ascii codifications\n",
    "* regular expressions"
   ]
  },
  {
   "cell_type": "code",
   "execution_count": 1,
   "metadata": {
    "collapsed": false
   },
   "outputs": [
    {
     "data": {
      "text/plain": [
       "<pyspark.context.SparkContext at 0x3d2f7b8>"
      ]
     },
     "execution_count": 1,
     "metadata": {},
     "output_type": "execute_result"
    }
   ],
   "source": [
    "sc"
   ]
  }
 ],
 "metadata": {
  "anaconda-cloud": {},
  "kernelspec": {
   "display_name": "Python [Root]",
   "language": "python",
   "name": "Python [Root]"
  },
  "language_info": {
   "codemirror_mode": {
    "name": "ipython",
    "version": 2
   },
   "file_extension": ".py",
   "mimetype": "text/x-python",
   "name": "python",
   "nbconvert_exporter": "python",
   "pygments_lexer": "ipython2",
   "version": "2.7.12"
  }
 },
 "nbformat": 4,
 "nbformat_minor": 0
}
