{
 "cells": [
  {
   "cell_type": "markdown",
   "metadata": {},
   "source": [
    "# Data Cleaning with Pandas"
   ]
  },
  {
   "cell_type": "markdown",
   "metadata": {},
   "source": [
    "## Introduction"
   ]
  },
  {
   "cell_type": "markdown",
   "metadata": {},
   "source": [
    "The aim of this notebook is to introduce you to basic data cleaning using Python and Pandas. Most of the contents follow the ideas presented the great report of Jonge van der Loo - <cite>[Introduction to data cleaning with R][1]</cite>.\n",
    "\n",
    "As explained in [1][1], most of Data Scientist's work is spent in cleaning preparing data before any statistical analysis or model application. Of course one can find data sources date are ready to go, but usually these sources are already explored data sets on parcial examples. The reality however, is that data is full of errors, without format consistency and potentially incomplete. The Data Scientist mission is to convert these raw data sources into consistent data sets that can be used as input for further analysis.\n",
    "\n",
    "// TODO\n",
    "[During data cleaning, the analyst can]\n",
    "\n",
    "[1]:https://cran.r-project.org/doc/contrib/de_Jonge+van_der_Loo-Introduction_to_data_cleaning_with_R.pdf"
   ]
  },
  {
   "cell_type": "markdown",
   "metadata": {},
   "source": [
    "## Statistical Analysis in Five Steps"
   ]
  },
  {
   "cell_type": "markdown",
   "metadata": {},
   "source": [
    "Van der Loo defines statistical data analysis in five steps:\n",
    "1. Raw data: \n",
    "       | type checking, normalizing         \n",
    "       v                                    \n",
    "2. Technically correct data                 \n",
    "       | fix and impute                     \n",
    "       v                                    \n",
    "3. Consistent data                          \n",
    "       | estimate, analyze, derive, etc.\n",
    "       v\n",
    "4. Statistical results\n",
    "       | tabulate, plot\n",
    "       v\n",
    "5. Formatted output\n",
    "\n",
    "In the previous graph you find a numbered list with five items. Each item represent data in different states and arrows represent actions needed at each step to move to the next one. It has to be noted that when data is transformed from first to fifth state it gains value at each step in an incremntal way.\n",
    "\n",
    "At the first stage, we have data as is. Raw data is a rough diamond that is going to be cut and shined at each step. Among the errors we can find there are: wrong types, different variable encoding, data without labels, etc.\n",
    "\n",
    "Technically correct data, is data that can be loaded into Pandas structures, let's say that it has the propper \"shape\" with correct names, types, labels and so on. However variables may be out of range or potentially inconsistent (relations between variables).\n",
    "\n",
    "In consistent data stage, data is ready for statistical inference. For example the total amount of incomes in a year is the sum of all months incomes.\n",
    "\n",
    "The later stages contain statistical results derived from the analysis that ultimately can be formated to provide a synthetic layout."
   ]
  },
  {
   "cell_type": "markdown",
   "metadata": {},
   "source": [
    "** Best Practice **\n",
    "It is a good idea to keep the input of each step in a local file, and the methods applied ready to be reproduced at each stage (at least)."
   ]
  },
  {
   "cell_type": "markdown",
   "metadata": {},
   "source": [
    "## Data Structures with Pandas"
   ]
  },
  {
   "cell_type": "markdown",
   "metadata": {},
   "source": [
    "Basically in Pandas there are two fundamental data structures Series and DataFrame. The reference page is (http://pandas.pydata.org/pandas-docs/stable/dsintro.html) and we will try to place different and complementary examples to understand its mission."
   ]
  },
  {
   "cell_type": "markdown",
   "metadata": {},
   "source": [
    "# Bibliography"
   ]
  },
  {
   "cell_type": "markdown",
   "metadata": {},
   "source": [
    "[1] Jonge van der Loo, Introduction to data cleaning with R - https://cran.r-project.org/doc/contrib/de_Jonge+van_der_Loo-Introduction_to_data_cleaning_with_R.pdf"
   ]
  }
 ],
 "metadata": {
  "kernelspec": {
   "display_name": "Python 2",
   "language": "python",
   "name": "python2"
  },
  "language_info": {
   "codemirror_mode": {
    "name": "ipython",
    "version": 2
   },
   "file_extension": ".py",
   "mimetype": "text/x-python",
   "name": "python",
   "nbconvert_exporter": "python",
   "pygments_lexer": "ipython2",
   "version": "2.7.5"
  }
 },
 "nbformat": 4,
 "nbformat_minor": 0
}
