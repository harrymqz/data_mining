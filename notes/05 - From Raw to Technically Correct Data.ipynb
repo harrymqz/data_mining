{
 "cells": [
  {
   "cell_type": "markdown",
   "metadata": {
    "nbpresent": {
     "id": "99c2dc44-3917-4e28-8d1e-22c746f1023c"
    }
   },
   "source": [
    "#  From Raw to Technically Correct Data\n",
    "*(from de Jonge van der Loo)*\n",
    "\n",
    "A data set is a collection of data that describes attribute values (variables) of a number of real-world objects (units). With data that are *technically correct*, we understand a data set where each value:\n",
    "\n",
    "1. can be directly recognized as belonging to certaing variable, and\n",
    "2. is stored in a data type that represents the value domain of the real-world variable.\n",
    "\n",
    "This means that for each unit, a text variable should be stored as text, a numeric variable as a number, and so on, and all ths in a format that is consistent across the data set with appropiate variable (column) names. I am avoiding to comment the case in which the variable is categorical, as thus it would be necessary to use labels. I'll skip this, but you have further reading about this in the following link: http://pandas.pydata.org/pandas-docs/stable/categorical.html\n",
    "\n",
    "To sum up: the mission is to find ways to read froma source of text or data (i.e. a file text) and have it transformed to a Pandas DataFrame with suitable column names.\n",
    "\n",
    "## Reading text data to DataFrame\n",
    "\n",
    "We have already seen in previous notes that Pandas already provides libraries that get a file as an input and provide a DataFrame as an output. This is the most siutable way of reading text in Pandas, however, we always can make use of the csv library from Python, converting and converting the data to a DataFrame using any of the DataFrame constructors. \n",
    "\n",
    "We will cover some of the most common uses of Pandas regarding the csv file format reading libraries, for other file formats and further options, please refer to http://pandas.pydata.org/pandas-docs/stable/io.html.\n",
    "\n",
    "### CSV reading\n",
    "Nowadays, the most common data format is CSV, which are tabular data files which use the comma separator to divide variable data.\n"
   ]
  },
  {
   "cell_type": "code",
   "execution_count": 4,
   "metadata": {
    "collapsed": false,
    "nbpresent": {
     "id": "59112c70-3bbd-4bef-9666-1ec55c5f4524"
    }
   },
   "outputs": [
    {
     "name": "stdout",
     "output_type": "stream",
     "text": [
      "[',Age[years],Sex,Weight[kg],Eye Color,Body Temperature[C]\\n', 'individuum 1, 42, female, 52.9, brown, 36.9\\n', 'individuum 2, 37, male, 87.0, green, 36.3\\n', 'individuum 3, 29, male, 82.1, blue, 36.4\\n', 'individuum 4, 61, female, 62.5, blue, 36.7\\n']\n"
     ]
    }
   ],
   "source": [
    "fname = \"../data/people.csv\"\n",
    "with open(fname) as f:\n",
    "    content = f.readlines()\n",
    "print content[:5]"
   ]
  },
  {
   "cell_type": "code",
   "execution_count": 14,
   "metadata": {
    "collapsed": false,
    "nbpresent": {
     "id": "734dbd76-3515-4e59-bcab-d7e40fe6c5fd"
    }
   },
   "outputs": [
    {
     "data": {
      "text/html": [
       "<div>\n",
       "<table border=\"1\" class=\"dataframe\">\n",
       "  <thead>\n",
       "    <tr style=\"text-align: right;\">\n",
       "      <th></th>\n",
       "      <th>Unnamed: 0</th>\n",
       "      <th>Age[years]</th>\n",
       "      <th>Sex</th>\n",
       "      <th>Weight[kg]</th>\n",
       "      <th>Eye Color</th>\n",
       "      <th>Body Temperature[C]</th>\n",
       "    </tr>\n",
       "  </thead>\n",
       "  <tbody>\n",
       "    <tr>\n",
       "      <th>0</th>\n",
       "      <td>individuum 1</td>\n",
       "      <td>42</td>\n",
       "      <td>female</td>\n",
       "      <td>52.9</td>\n",
       "      <td>brown</td>\n",
       "      <td>36.9</td>\n",
       "    </tr>\n",
       "    <tr>\n",
       "      <th>1</th>\n",
       "      <td>individuum 2</td>\n",
       "      <td>37</td>\n",
       "      <td>male</td>\n",
       "      <td>87.0</td>\n",
       "      <td>green</td>\n",
       "      <td>36.3</td>\n",
       "    </tr>\n",
       "    <tr>\n",
       "      <th>2</th>\n",
       "      <td>individuum 3</td>\n",
       "      <td>29</td>\n",
       "      <td>male</td>\n",
       "      <td>82.1</td>\n",
       "      <td>blue</td>\n",
       "      <td>36.4</td>\n",
       "    </tr>\n",
       "    <tr>\n",
       "      <th>3</th>\n",
       "      <td>individuum 4</td>\n",
       "      <td>61</td>\n",
       "      <td>female</td>\n",
       "      <td>62.5</td>\n",
       "      <td>blue</td>\n",
       "      <td>36.7</td>\n",
       "    </tr>\n",
       "    <tr>\n",
       "      <th>4</th>\n",
       "      <td>individuum 5</td>\n",
       "      <td>77</td>\n",
       "      <td>female</td>\n",
       "      <td>55.5</td>\n",
       "      <td>gray</td>\n",
       "      <td>36.6</td>\n",
       "    </tr>\n",
       "    <tr>\n",
       "      <th>5</th>\n",
       "      <td>individuum 6</td>\n",
       "      <td>33</td>\n",
       "      <td>male</td>\n",
       "      <td>95.2</td>\n",
       "      <td>green</td>\n",
       "      <td>36.5</td>\n",
       "    </tr>\n",
       "    <tr>\n",
       "      <th>6</th>\n",
       "      <td>individuum 7</td>\n",
       "      <td>32</td>\n",
       "      <td>female</td>\n",
       "      <td>81.8</td>\n",
       "      <td>brown</td>\n",
       "      <td>37.0</td>\n",
       "    </tr>\n",
       "    <tr>\n",
       "      <th>7</th>\n",
       "      <td>individuum 8</td>\n",
       "      <td>45</td>\n",
       "      <td>male</td>\n",
       "      <td>78.9</td>\n",
       "      <td>brown</td>\n",
       "      <td>36.3</td>\n",
       "    </tr>\n",
       "    <tr>\n",
       "      <th>8</th>\n",
       "      <td>individuum 9</td>\n",
       "      <td>18</td>\n",
       "      <td>male</td>\n",
       "      <td>83.4</td>\n",
       "      <td>green</td>\n",
       "      <td>36.6</td>\n",
       "    </tr>\n",
       "    <tr>\n",
       "      <th>9</th>\n",
       "      <td>individuum 10</td>\n",
       "      <td>19</td>\n",
       "      <td>male</td>\n",
       "      <td>84.7</td>\n",
       "      <td>gray</td>\n",
       "      <td>36.1</td>\n",
       "    </tr>\n",
       "  </tbody>\n",
       "</table>\n",
       "</div>"
      ],
      "text/plain": [
       "      Unnamed: 0  Age[years]      Sex  Weight[kg] Eye Color  \\\n",
       "0   individuum 1          42   female        52.9     brown   \n",
       "1   individuum 2          37     male        87.0     green   \n",
       "2   individuum 3          29     male        82.1      blue   \n",
       "3   individuum 4          61   female        62.5      blue   \n",
       "4   individuum 5          77   female        55.5      gray   \n",
       "5   individuum 6          33     male        95.2     green   \n",
       "6   individuum 7          32   female        81.8     brown   \n",
       "7   individuum 8          45     male        78.9     brown   \n",
       "8   individuum 9          18     male        83.4     green   \n",
       "9  individuum 10          19     male        84.7      gray   \n",
       "\n",
       "   Body Temperature[C]  \n",
       "0                 36.9  \n",
       "1                 36.3  \n",
       "2                 36.4  \n",
       "3                 36.7  \n",
       "4                 36.6  \n",
       "5                 36.5  \n",
       "6                 37.0  \n",
       "7                 36.3  \n",
       "8                 36.6  \n",
       "9                 36.1  "
      ]
     },
     "metadata": {},
     "output_type": "display_data"
    },
    {
     "name": "stdout",
     "output_type": "stream",
     "text": [
      "Types:\n"
     ]
    },
    {
     "data": {
      "text/plain": [
       "Unnamed: 0              object\n",
       "Age[years]               int64\n",
       "Sex                     object\n",
       "Weight[kg]             float64\n",
       "Eye Color               object\n",
       "Body Temperature[C]    float64\n",
       "dtype: object"
      ]
     },
     "metadata": {},
     "output_type": "display_data"
    }
   ],
   "source": [
    "import pandas as pd\n",
    "from IPython.display import display, HTML\n",
    "\n",
    "path_to_file = \"../data/people.csv\"\n",
    "df = pd.read_csv(path_to_file)\n",
    "display(df)\n",
    "print \"Types:\"\n",
    "display(df.dtypes)"
   ]
  },
  {
   "cell_type": "markdown",
   "metadata": {
    "nbpresent": {
     "id": "efb9a000-0a42-4896-b3a9-73784cba271d"
    }
   },
   "source": [
    "Some things to note:\n",
    "* recognizes the first line as column names\n",
    "* recognizes variable types\n",
    "* automatically assign row index\n",
    "\n",
    "Useful options of read_csv:"
   ]
  }
 ],
 "metadata": {
  "anaconda-cloud": {},
  "kernelspec": {
   "display_name": "Python [Root]",
   "language": "python",
   "name": "Python [Root]"
  },
  "language_info": {
   "codemirror_mode": {
    "name": "ipython",
    "version": 2
   },
   "file_extension": ".py",
   "mimetype": "text/x-python",
   "name": "python",
   "nbconvert_exporter": "python",
   "pygments_lexer": "ipython2",
   "version": "2.7.12"
  },
  "nbpresent": {
   "slides": {
    "221d637a-868a-4085-9fe1-7ed9020f954c": {
     "id": "221d637a-868a-4085-9fe1-7ed9020f954c",
     "prev": null,
     "regions": {
      "24be0e0e-39a4-4c4c-8c24-efd183160f4b": {
       "attrs": {
        "height": 0.8,
        "width": 0.8,
        "x": 0.1,
        "y": 0.1
       },
       "content": {
        "cell": "99c2dc44-3917-4e28-8d1e-22c746f1023c",
        "part": "whole"
       },
       "id": "24be0e0e-39a4-4c4c-8c24-efd183160f4b"
      }
     }
    },
    "6872ad6e-cf14-4135-9eb5-70e85d06a912": {
     "id": "6872ad6e-cf14-4135-9eb5-70e85d06a912",
     "prev": "9a08f577-08c3-4415-b945-dd598a5e9dd8",
     "regions": {
      "b50e3919-dedb-428a-8991-94fc1e7ea3a8": {
       "attrs": {
        "height": 0.8,
        "width": 0.8,
        "x": 0.1,
        "y": 0.1
       },
       "content": {
        "cell": "efb9a000-0a42-4896-b3a9-73784cba271d",
        "part": "whole"
       },
       "id": "b50e3919-dedb-428a-8991-94fc1e7ea3a8"
      }
     }
    },
    "9a08f577-08c3-4415-b945-dd598a5e9dd8": {
     "id": "9a08f577-08c3-4415-b945-dd598a5e9dd8",
     "prev": "d71df4f9-4b54-464d-b845-79b5f95ba22a",
     "regions": {
      "114a3519-e738-4e44-b999-62aef3028d77": {
       "attrs": {
        "height": 0.8,
        "width": 0.8,
        "x": 0.1,
        "y": 0.1
       },
       "content": {
        "cell": "734dbd76-3515-4e59-bcab-d7e40fe6c5fd",
        "part": "whole"
       },
       "id": "114a3519-e738-4e44-b999-62aef3028d77"
      }
     }
    },
    "d71df4f9-4b54-464d-b845-79b5f95ba22a": {
     "id": "d71df4f9-4b54-464d-b845-79b5f95ba22a",
     "prev": "221d637a-868a-4085-9fe1-7ed9020f954c",
     "regions": {
      "5b120010-391c-4d79-993d-452cef8fdb6e": {
       "attrs": {
        "height": 0.8,
        "width": 0.8,
        "x": 0.1,
        "y": 0.1
       },
       "content": {
        "cell": "59112c70-3bbd-4bef-9666-1ec55c5f4524",
        "part": "whole"
       },
       "id": "5b120010-391c-4d79-993d-452cef8fdb6e"
      }
     }
    }
   },
   "themes": {}
  }
 },
 "nbformat": 4,
 "nbformat_minor": 0
}
