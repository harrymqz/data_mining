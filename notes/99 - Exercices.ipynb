{
 "cells": [
  {
   "cell_type": "markdown",
   "metadata": {},
   "source": [
    "** Exercice: **\n",
    "\n",
    "Take countries_GDP.csv and convert it to a valid csv file without header."
   ]
  },
  {
   "cell_type": "code",
   "execution_count": 64,
   "metadata": {
    "collapsed": false
   },
   "outputs": [
    {
     "name": "stdout",
     "output_type": "stream",
     "text": [
      "  country_code position    country_name           gdp\n",
      "0          USA        1   United States   17,946,996 \n",
      "1          CHN        2           China   10,866,444 \n",
      "2          JPN        3           Japan    4,123,258 \n",
      "3          DEU        4         Germany    3,355,772 \n",
      "4          GBR        5  United Kingdom    2,848,755 \n",
      "country_code    object\n",
      "position        object\n",
      "country_name    object\n",
      "gdp             object\n",
      "dtype: object\n",
      "float64\n",
      "  country_code position    country_name         gdp\n",
      "0          USA        1   United States  17946996.0\n",
      "1          CHN        2           China  10866444.0\n",
      "2          JPN        3           Japan   4123258.0\n",
      "3          DEU        4         Germany   3355772.0\n",
      "4          GBR        5  United Kingdom   2848755.0\n",
      "    country_code position         country_name         gdp\n",
      "224          SSF      NaN   Sub-Saharan Africa   1572873.0\n",
      "225          LIC      NaN           Low income    392904.0\n",
      "226          LMC      NaN  Lower middle income   5820363.0\n",
      "227          UMC      NaN  Upper middle income  19732884.0\n",
      "228          HIC      NaN          High income  46985247.0\n"
     ]
    }
   ],
   "source": [
    "import pandas as pd\n",
    "import numpy as np\n",
    "\n",
    "#read csv as data frame\n",
    "df_gdp_raw = pd.read_csv(\"../data/countries_GDP.csv\")\n",
    "#select columns and use these that have data in 'Unamed:0', which\n",
    "#actually is the country code\n",
    "df_gdp = df_gdp_raw[[0,1,3,4]][df_gdp_raw['Unnamed: 0'].notnull()]\n",
    "#rename columns and index\n",
    "df_gdp.columns=[\"country_code\",\"position\",\"country_name\",\"gdp\"]\n",
    "df_gdp.index = range(df_gdp.shape[0])\n",
    "#show head\n",
    "print df_gdp.head()\n",
    "#show types, take into account that gdp should be integer\n",
    "print df_gdp.dtypes\n",
    "#change gdp dtype to numeric\n",
    "df_gdp.gdp = df_gdp.gdp.apply(lambda x: x.replace(\",\",\"\").strip(\" \"))\n",
    "df_gdp.gdp = pd.to_numeric(df_gdp.gdp,errors=\"coerce\")\n",
    "print df_gdp.gdp.dtype\n",
    "print df_gdp.head()\n",
    "print df_gdp.tail()\n",
    "#save as csv, set header as false\n",
    "df_gdp.to_csv(\"../data/countries_GDP_clean.csv\",header=False)"
   ]
  },
  {
   "cell_type": "markdown",
   "metadata": {},
   "source": [
    "**Exercice:**\n",
    "\n",
    "Clean countries data and save it as a valid csv without header."
   ]
  },
  {
   "cell_type": "code",
   "execution_count": 67,
   "metadata": {
    "collapsed": false
   },
   "outputs": [],
   "source": [
    "import pandas as pd\n",
    "import numpy as np\n",
    "\n",
    "df_country_raw = pd.read_csv(\"../data/countries_data.csv\",sep=\";\")\n",
    "df_country_raw.head(15)\n",
    "df_country_raw.to_csv(\"../data/countries_data_clean.csv\",header=False)"
   ]
  }
 ],
 "metadata": {
  "kernelspec": {
   "display_name": "Python [Root]",
   "language": "python",
   "name": "Python [Root]"
  },
  "language_info": {
   "codemirror_mode": {
    "name": "ipython",
    "version": 2
   },
   "file_extension": ".py",
   "mimetype": "text/x-python",
   "name": "python",
   "nbconvert_exporter": "python",
   "pygments_lexer": "ipython2",
   "version": "2.7.12"
  }
 },
 "nbformat": 4,
 "nbformat_minor": 0
}
